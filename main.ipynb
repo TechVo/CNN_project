{
 "cells": [
  {
   "cell_type": "markdown",
   "metadata": {
    "cell_id": "00000-c804806c-32e6-4c7a-815e-37c005152cbe",
    "deepnote_cell_type": "markdown",
    "tags": []
   },
   "source": [
    "# Imports"
   ]
  },
  {
   "cell_type": "code",
   "execution_count": null,
   "metadata": {
    "cell_id": "00001-ea98b246-5039-4d93-99bb-dda938718c19",
    "deepnote_cell_type": "code",
    "deepnote_to_be_reexecuted": false,
    "execution_millis": 3876,
    "execution_start": 1630427958417,
    "source_hash": "a0b0c82b",
    "tags": []
   },
   "outputs": [],
   "source": [
    "from architectures.lenet5 import LeNet5\n",
    "from architectures.alexnet import AlexNet\n",
    "from architectures.vgg16 import VGG16\n",
    "from architectures.resnet50 import ResNet50\n",
    "from Datasets import load_cifar10, load_cifar100, load_mnist, load_fashion_mnist\n",
    "from sklearn.model_selection import KFold\n",
    "from tensorflow.keras.preprocessing.image import ImageDataGenerator\n",
    "import numpy as np\n",
    "import pandas as pd\n",
    "from sklearn.model_selection import train_test_split\n",
    "import matplotlib.pyplot as plt\n",
    "import tensorflow.keras as keras\n",
    "import pickle"
   ]
  },
  {
   "cell_type": "markdown",
   "metadata": {
    "cell_id": "00001-614dcebf-e750-4407-a257-f355e7b7931e",
    "deepnote_cell_type": "markdown",
    "tags": []
   },
   "source": [
    "# Load Datasets"
   ]
  },
  {
   "cell_type": "code",
   "execution_count": null,
   "metadata": {
    "cell_id": "00001-2d926bcd-f1c3-44a7-a9aa-06fa9187f0fa",
    "deepnote_cell_type": "code",
    "deepnote_to_be_reexecuted": false,
    "execution_millis": 2621,
    "execution_start": 1630427962299,
    "scrolled": true,
    "source_hash": "5fa13ce7",
    "tags": []
   },
   "outputs": [],
   "source": [
    "datasets = {\"cifar10\": load_cifar10(),\n",
    "            \"cifar100\": load_cifar100(),\n",
    "            \"mnist\": load_mnist(),\n",
    "            \"fashion_mnist\": load_fashion_mnist()\n",
    "            }\n",
    "            "
   ]
  },
  {
   "cell_type": "markdown",
   "metadata": {
    "cell_id": "00004-0e554513-b7a4-4dd6-962c-b5d3ed5bb96d",
    "deepnote_cell_type": "code",
    "deepnote_to_be_reexecuted": false,
    "execution_millis": 8,
    "execution_start": 1630427964928,
    "source_hash": "a99a47c2",
    "tags": []
   },
   "source": [
    "# Load Architectures"
   ]
  },
  {
   "cell_type": "code",
   "execution_count": null,
   "metadata": {},
   "outputs": [],
   "source": [
    "architectures = {\"LeNet5\": LeNet5,\n",
    "                 \"AlexNet\": AlexNet,\n",
    "                 \"VGG16\": VGG16,\n",
    "                 \"ResNet50\": ResNet50\n",
    "                 }"
   ]
  },
  {
   "cell_type": "markdown",
   "metadata": {},
   "source": [
    "# Set Hyperparameters"
   ]
  },
  {
   "cell_type": "code",
   "execution_count": null,
   "metadata": {
    "cell_id": "00004-1580e4ee-ef62-4cfb-b4c0-9dba32a67563",
    "deepnote_cell_type": "code",
    "deepnote_to_be_reexecuted": false,
    "execution_millis": 12,
    "execution_start": 1630428138075,
    "source_hash": "e671989e",
    "tags": []
   },
   "outputs": [],
   "source": [
    "learning_rates = [(x ** 2) / 10000 if x != 0 else 0.0001 for x in range(0, 15, 3)]\n",
    "print(\"Learning rates: \" + str(learning_rates))\n",
    "\n",
    "hyperparameters = {\"optimizers\": [keras.optimizers.SGD, keras.optimizers.Adam],\n",
    "                   \"learning_rates\": learning_rates,\n",
    "                   \"epochs\": 20,\n",
    "                   \"batch_size\": 16\n",
    "                   }"
   ]
  },
  {
   "cell_type": "markdown",
   "metadata": {},
   "source": [
    "# Train Models"
   ]
  },
  {
   "cell_type": "code",
   "execution_count": null,
   "metadata": {
    "cell_id": "00005-a6b6193e-5461-4279-9e73-9e4fd008c538",
    "deepnote_cell_type": "code",
    "deepnote_to_be_reexecuted": false,
    "execution_millis": 544,
    "execution_start": 1630427965095,
    "scrolled": true,
    "source_hash": "48fcbe45",
    "tags": []
   },
   "outputs": [],
   "source": [
    "# Iterate through all datasets\n",
    "for dataset_name, dataset in datasets.items():\n",
    "    X_train, Y_train, X_test, Y_test = dataset\n",
    "    \n",
    "    classes = Y_train.shape[1]\n",
    "    filters = X_train.shape[3]\n",
    "    \n",
    "    # For testing\n",
    "    X_train, _, Y_train, _ = train_test_split(X_train, Y_train, train_size=1024, test_size=1)\n",
    "    \n",
    "    \n",
    "    # Iterate through all architectures\n",
    "    for architecture_name, architecture in architectures.items():\n",
    "        print(architecture_name, dataset_name)\n",
    "        best_model = [None, None, 0.0]\n",
    "        \n",
    "        # Prepare data for cross validation\n",
    "        kf = KFold(\n",
    "        n_splits=len(hyperparameters[\"optimizers\"]) * len(hyperparameters[\"learning_rates\"])) \n",
    "        kf.get_n_splits(X_train)\n",
    "\n",
    "        i = 0 # Index for optimizers\n",
    "        j = 0 # Index for learning rates\n",
    "        \n",
    "        # Iterate through all combinations of learning rates and optimizers\n",
    "        for train_index, test_index in kf.split(X_train):\n",
    "            optimizer = hyperparameters[\"optimizers\"][i]\n",
    "            learning_rate = hyperparameters[\"learning_rates\"][j]\n",
    "\n",
    "            # Build and compile model\n",
    "            arch = architecture(classes = classes,\n",
    "                                optimizer = optimizer(learning_rate=learning_rate),\n",
    "                                filters = filters)\n",
    "            model = arch.model\n",
    "\n",
    "            # Resize images\n",
    "            X_tr = architecture.resize_images(X_train[train_index])\n",
    "            Y_tr = Y_train[train_index]\n",
    "            X_vl = architecture.resize_images(X_train[test_index])\n",
    "            Y_vl = Y_train[test_index]\n",
    "\n",
    "            # Generate edited images\n",
    "            datagen = ImageDataGenerator(width_shift_range=0.1,\n",
    "                            height_shift_range=0.1,\n",
    "                            zoom_range=0.2,\n",
    "                            fill_mode='nearest',\n",
    "                            horizontal_flip = True)\n",
    "            datagen.fit(X_tr)\n",
    "            \n",
    "            # Fit model\n",
    "            history = model.fit(datagen.flow(X_tr, Y_tr, batch_size=hyperparameters[\"batch_size\"]),\n",
    "                                  validation_data=(X_vl, Y_vl),\n",
    "                                  epochs=hyperparameters[\"epochs\"], steps_per_epoch=len(X_tr)/hyperparameters[\"batch_size\"])\n",
    "            \n",
    "            val_accuracy = history.history['val_accuracy'][-1]\n",
    "            \n",
    "            # Check whether the new model is better\n",
    "            if val_accuracy > best_model[2]:\n",
    "                best_model = [model, history, val_accuracy]\n",
    "\n",
    "            # Update indexes\n",
    "            i = (i + 1) % len(hyperparameters[\"optimizers\"])\n",
    "            j = (j + 1) % len(hyperparameters[\"learning_rates\"])\n",
    "            \n",
    "        # Evaluate best model\n",
    "        _, test_accuracy = best_model[0].evaluate(architecture.resize_images(X_test), Y_test)\n",
    "        \n",
    "        # Save best model\n",
    "        name = str(\"{:.2f}\".format(test_accuracy) + \"Acc_\" +\n",
    "                       architecture_name + \"_\" + dataset_name)\n",
    "        \n",
    "        best_model[0].save(name)\n",
    "\n",
    "        hist_df = pd.DataFrame(best_model[1].history) \n",
    "\n",
    "        # Save history to .json:  \n",
    "        hist_json_file = name + '_history' + '.json' \n",
    "        with open(hist_json_file, mode='w') as f:\n",
    "            hist_df.to_json(f)\n"
   ]
  },
  {
   "cell_type": "markdown",
   "metadata": {
    "created_in_deepnote_cell": true,
    "deepnote_cell_type": "markdown",
    "tags": []
   },
   "source": [
    "<a style='text-decoration:none;line-height:16px;display:flex;color:#5B5B62;padding:10px;justify-content:end;' href='https://deepnote.com?utm_source=created-in-deepnote-cell&projectId=64d23a20-b5bc-41cc-930c-3bd7ede12b0c' target=\"_blank\">\n",
    "<img alt='Created in deepnote.com' style='display:inline;max-height:16px;margin:0px;margin-right:7.5px;' src='data:image/svg+xml;base64,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' > </img>\n",
    "Created in <span style='font-weight:600;margin-left:4px;'>Deepnote</span></a>"
   ]
  }
 ],
 "metadata": {
  "deepnote": {
   "is_reactive": false
  },
  "deepnote_execution_queue": [],
  "deepnote_notebook_id": "cc247c2f-45e2-413f-871f-75df306c9823",
  "kernelspec": {
   "display_name": "Python 3",
   "language": "python",
   "name": "python3"
  },
  "language_info": {
   "codemirror_mode": {
    "name": "ipython",
    "version": 3
   },
   "file_extension": ".py",
   "mimetype": "text/x-python",
   "name": "python",
   "nbconvert_exporter": "python",
   "pygments_lexer": "ipython3",
   "version": "3.8.5"
  }
 },
 "nbformat": 4,
 "nbformat_minor": 2
}
