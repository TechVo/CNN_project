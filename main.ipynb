{
 "cells": [
  {
   "cell_type": "markdown",
   "source": "# Imports",
   "metadata": {
    "tags": [],
    "cell_id": "00000-c804806c-32e6-4c7a-815e-37c005152cbe",
    "deepnote_cell_type": "markdown"
   }
  },
  {
   "cell_type": "code",
   "metadata": {
    "tags": [],
    "cell_id": "00001-ea98b246-5039-4d93-99bb-dda938718c19",
    "deepnote_to_be_reexecuted": false,
    "source_hash": "a0b0c82b",
    "execution_start": 1630427958417,
    "execution_millis": 3876,
    "deepnote_cell_type": "code"
   },
   "source": "from architectures.lenet5 import LeNet5\nfrom architectures.alexnet import AlexNet\nfrom architectures.vgg16 import VGG16\nfrom Datasets import Datasets\nfrom sklearn.model_selection import KFold\nfrom tensorflow.keras.preprocessing.image import ImageDataGenerator\nimport numpy as np\nfrom sklearn.model_selection import train_test_split\nimport matplotlib.pyplot as plt\nimport tensorflow.keras as keras\n",
   "outputs": [],
   "execution_count": 1
  },
  {
   "cell_type": "markdown",
   "source": "# Load Data",
   "metadata": {
    "tags": [],
    "cell_id": "00001-614dcebf-e750-4407-a257-f355e7b7931e",
    "deepnote_cell_type": "markdown"
   }
  },
  {
   "cell_type": "code",
   "metadata": {
    "tags": [],
    "cell_id": "00001-2d926bcd-f1c3-44a7-a9aa-06fa9187f0fa",
    "deepnote_to_be_reexecuted": false,
    "source_hash": "5fa13ce7",
    "execution_start": 1630427962299,
    "execution_millis": 2621,
    "deepnote_cell_type": "code"
   },
   "source": "X_train, Y_train, X_test, Y_test = Datasets.load_cifar10()\nX_train = X_train.astype('float32')\nX_test = X_test.astype('float32')\nX_train = X_train/255.\nX_test = X_test/255.\n\n_, x_size, y_size, n_filters = X_train.shape\n_, classes = Y_train.shape",
   "outputs": [],
   "execution_count": 2
  },
  {
   "cell_type": "code",
   "source": "# For testing\nX_train, _, Y_train, _ = train_test_split(X_train, Y_train, train_size=1024, test_size=1)",
   "metadata": {
    "tags": [],
    "cell_id": "00004-0e554513-b7a4-4dd6-962c-b5d3ed5bb96d",
    "deepnote_to_be_reexecuted": false,
    "source_hash": "a99a47c2",
    "execution_start": 1630427964928,
    "execution_millis": 8,
    "deepnote_cell_type": "code"
   },
   "outputs": [],
   "execution_count": 3
  },
  {
   "cell_type": "code",
   "metadata": {
    "tags": [],
    "cell_id": "00004-1580e4ee-ef62-4cfb-b4c0-9dba32a67563",
    "deepnote_to_be_reexecuted": false,
    "source_hash": "e671989e",
    "execution_start": 1630428138075,
    "execution_millis": 12,
    "deepnote_cell_type": "code"
   },
   "source": "learning_rates = [(x ** 2) / 1000 if x != 0 else 0.001 for x in range(0, 11, 2)]\nprint(learning_rates)",
   "outputs": [
    {
     "name": "stdout",
     "text": "[0.001, 0.004, 0.016, 0.036, 0.064, 0.1]\n",
     "output_type": "stream"
    }
   ],
   "execution_count": 10
  },
  {
   "cell_type": "code",
   "metadata": {
    "tags": [],
    "cell_id": "00005-566a4f85-1b57-4f82-b3c0-28a33e583b16",
    "deepnote_to_be_reexecuted": false,
    "source_hash": "9ae34cae",
    "execution_start": 1630427964976,
    "execution_millis": 114,
    "deepnote_cell_type": "code"
   },
   "source": "model = AlexNet(classes = classes, optimizer=keras.optimizers.SGD(learning_rate=0.1))",
   "outputs": [],
   "execution_count": 5
  },
  {
   "cell_type": "code",
   "metadata": {
    "tags": [],
    "cell_id": "00005-a6b6193e-5461-4279-9e73-9e4fd008c538",
    "deepnote_to_be_reexecuted": false,
    "source_hash": "48fcbe45",
    "execution_start": 1630427965095,
    "execution_millis": 544,
    "deepnote_cell_type": "code"
   },
   "source": "# Prepare data for cross validation\nkf = KFold(n_splits=4) \nkf.get_n_splits(X_train)\n\nfor learning_rate in learning_rates:\n    #Cross Validation loop\n    for train_index, test_index in kf.split(X_train):\n\n        # Build model\n        model = VGG16(classes = classes, optimizer=keras.optimizers.SGD(learning_rate=learning_rate))\n\n        X_tr = model.resize_images(X_train[train_index])\n        Y_tr = Y_train[train_index]\n        X_vl = model.resize_images(X_train[test_index])\n        Y_vl = Y_train[test_index]\n\n        # Generate extra data\n        datagen = ImageDataGenerator(width_shift_range=0.1,\n                        height_shift_range=0.1,\n                        zoom_range=0.2,\n                        fill_mode='nearest',\n                        horizontal_flip = True)\n        datagen.fit(X_tr)\n        \n        # Create history\n        batch_size = 8\n        history = model.fit(datagen.flow(X_tr, Y_tr, batch_size=batch_size),\n                              validation_data=(X_vl, Y_vl),\n                              epochs=10, steps_per_epoch=len(X_tr)/batch_size)\n\n        \n        plt.plot(history.history['accuracy'])\n        plt.plot(history.history['val_accuracy'])\n        plt.title('LeNet5 ' + str(learning_rate) + ' learning rate model accuracy')\n        plt.ylabel('accuracy')\n        plt.xlabel('learning_rate')\n        plt.legend(['train', 'validation'], loc='upper left')\n        plt.show()\n\n",
   "outputs": [
    {
     "output_type": "error",
     "ename": "TypeError",
     "evalue": "__init__() missing 1 required positional argument: 'input_shape'",
     "traceback": [
      "\u001b[0;31m---------------------------------------------------------------------------\u001b[0m",
      "\u001b[0;31mTypeError\u001b[0m                                 Traceback (most recent call last)",
      "\u001b[0;32m<ipython-input-6-85313fa8a5a8>\u001b[0m in \u001b[0;36m<module>\u001b[0;34m\u001b[0m\n\u001b[1;32m      8\u001b[0m \u001b[0;34m\u001b[0m\u001b[0m\n\u001b[1;32m      9\u001b[0m         \u001b[0;31m# Build model\u001b[0m\u001b[0;34m\u001b[0m\u001b[0;34m\u001b[0m\u001b[0;34m\u001b[0m\u001b[0m\n\u001b[0;32m---> 10\u001b[0;31m         \u001b[0mmodel\u001b[0m \u001b[0;34m=\u001b[0m \u001b[0mVGG16\u001b[0m\u001b[0;34m(\u001b[0m\u001b[0mclasses\u001b[0m \u001b[0;34m=\u001b[0m \u001b[0mclasses\u001b[0m\u001b[0;34m,\u001b[0m \u001b[0moptimizer\u001b[0m\u001b[0;34m=\u001b[0m\u001b[0mkeras\u001b[0m\u001b[0;34m.\u001b[0m\u001b[0moptimizers\u001b[0m\u001b[0;34m.\u001b[0m\u001b[0mSGD\u001b[0m\u001b[0;34m(\u001b[0m\u001b[0mlearning_rate\u001b[0m\u001b[0;34m=\u001b[0m\u001b[0mlearning_rate\u001b[0m\u001b[0;34m)\u001b[0m\u001b[0;34m)\u001b[0m\u001b[0;34m\u001b[0m\u001b[0;34m\u001b[0m\u001b[0m\n\u001b[0m\u001b[1;32m     11\u001b[0m \u001b[0;34m\u001b[0m\u001b[0m\n\u001b[1;32m     12\u001b[0m         \u001b[0mX_tr\u001b[0m \u001b[0;34m=\u001b[0m \u001b[0mmodel\u001b[0m\u001b[0;34m.\u001b[0m\u001b[0mresize_images\u001b[0m\u001b[0;34m(\u001b[0m\u001b[0mX_train\u001b[0m\u001b[0;34m[\u001b[0m\u001b[0mtrain_index\u001b[0m\u001b[0;34m]\u001b[0m\u001b[0;34m)\u001b[0m\u001b[0;34m\u001b[0m\u001b[0;34m\u001b[0m\u001b[0m\n",
      "\u001b[0;31mTypeError\u001b[0m: __init__() missing 1 required positional argument: 'input_shape'"
     ]
    }
   ],
   "execution_count": 6
  },
  {
   "cell_type": "markdown",
   "source": "<a style='text-decoration:none;line-height:16px;display:flex;color:#5B5B62;padding:10px;justify-content:end;' href='https://deepnote.com?utm_source=created-in-deepnote-cell&projectId=64d23a20-b5bc-41cc-930c-3bd7ede12b0c' target=\"_blank\">\n<img alt='Created in deepnote.com' style='display:inline;max-height:16px;margin:0px;margin-right:7.5px;' src='data:image/svg+xml;base64,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' > </img>\nCreated in <span style='font-weight:600;margin-left:4px;'>Deepnote</span></a>",
   "metadata": {
    "tags": [],
    "created_in_deepnote_cell": true,
    "deepnote_cell_type": "markdown"
   }
  }
 ],
 "nbformat": 4,
 "nbformat_minor": 2,
 "metadata": {
  "orig_nbformat": 2,
  "deepnote": {
   "is_reactive": false
  },
  "deepnote_notebook_id": "cc247c2f-45e2-413f-871f-75df306c9823",
  "deepnote_execution_queue": []
 }
}